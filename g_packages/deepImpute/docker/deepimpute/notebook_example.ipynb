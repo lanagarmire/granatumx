{
 "cells": [
  {
   "cell_type": "markdown",
   "metadata": {},
   "source": [
    "# Single-cell RNA-seq imputation using DeepImpute\n",
    "\n",
    "Here is a comprehensive tutorial to understand the functionnalities of DeepImpute."
   ]
  },
  {
   "cell_type": "code",
   "execution_count": 1,
   "metadata": {},
   "outputs": [
    {
     "name": "stdout",
     "output_type": "stream",
     "text": [
      "Working on 500 cells and 3000 genes\n"
     ]
    }
   ],
   "source": [
    "from deepimpute.multinet import MultiNet\n",
    "import pandas as pd\n",
    "\n",
    "# Load dataset using pandas\n",
    "data = pd.read_csv('examples/test.csv',index_col=0)\n",
    "print('Working on {} cells and {} genes'.format(*data.shape))"
   ]
  },
  {
   "cell_type": "markdown",
   "metadata": {},
   "source": [
    "## Create a DeepImpute multinet"
   ]
  },
  {
   "cell_type": "code",
   "execution_count": 2,
   "metadata": {
    "collapsed": true
   },
   "outputs": [],
   "source": [
    "# Using default parameters\n",
    "multinet = MultiNet() "
   ]
  },
  {
   "cell_type": "code",
   "execution_count": 13,
   "metadata": {
    "collapsed": true
   },
   "outputs": [],
   "source": [
    "# Using custom parameters\n",
    "NN_params = {'max_epochs': 200,\n",
    "            'learning_rate': 1e-4,\n",
    "            'dims': [20,600], # 500 output neurons, 20 highest correlated genes for each output gene\n",
    "            'batch_size': 64,\n",
    "            'layers': [{'label': 'dense', 'activation': 'relu', 'nb_neurons': 150},\n",
    "                       {'label': 'dropout', 'activation': 'dropout', 'rate': 0.15},\n",
    "                       {'label': 'dense', 'activation': 'relu'}], # Output neurons for layer 3: dims[1]\n",
    "            'n_cores': 8\n",
    "            }\n",
    "\n",
    "multinet = MultiNet(**NN_params)"
   ]
  },
  {
   "cell_type": "markdown",
   "metadata": {},
   "source": [
    "## Fit the networks"
   ]
  },
  {
   "cell_type": "code",
   "execution_count": 12,
   "metadata": {},
   "outputs": [
    {
     "name": "stdout",
     "output_type": "stream",
     "text": [
      "Gene prediction limit set to 2085 genes\n",
      "Using 1040 genes as potential predictors\n",
      "Starting training with 500 cells (100.0%) on 4 threads (3 cores/thread).\n",
      "\u001b[1;33;40mTraining model (500 samples) on 3 cores.\u001b[0m\n",
      "\u001b[1;33;40mTraining model (500 samples) on 3 cores.\u001b[0m\n",
      "\u001b[1;33;40mTraining model (500 samples) on 3 cores.\u001b[0m\n",
      "\u001b[1;33;40mTraining model (500 samples) on 3 cores.\u001b[0m\n",
      "Input layer: 549\n",
      "Input layer: 536\n",
      "Input layer: 540\n",
      "Layer-0 label: dense, activation: relu, nb_neurons: 150\n",
      "Input layer: 548\n",
      "Layer-0 label: dense, activation: relu, nb_neurons: 150\n",
      "Layer-0 label: dense, activation: relu, nb_neurons: 150\n",
      "Layer-1 label: dropout, activation: dropout, rate: 0.15\n",
      "Layer-0 label: dense, activation: relu, nb_neurons: 150\n",
      "Layer-2 label: dense, activation: relu, nb_neurons: 285\n",
      "Layer-1 label: dropout, activation: dropout, rate: 0.15\n",
      "Layer-2 label: dense, activation: relu, nb_neurons: 600\n",
      "Layer-1 label: dropout, activation: dropout, rate: 0.15\n",
      "Layer-2 label: dense, activation: relu, nb_neurons: 600\n",
      "Layer-1 label: dropout, activation: dropout, rate: 0.15\n",
      "Layer-2 label: dense, activation: relu, nb_neurons: 600\n"
     ]
    },
    {
     "name": "stderr",
     "output_type": "stream",
     "text": [
      "Process ForkPoolWorker-25:\n",
      "Traceback (most recent call last):\n",
      "  File \"/home/carisdak/anaconda3/lib/python3.6/multiprocessing/process.py\", line 249, in _bootstrap\n",
      "    self.run()\n",
      "Process ForkPoolWorker-24:\n",
      "Process ForkPoolWorker-26:\n",
      "Process ForkPoolWorker-23:\n",
      "  File \"/home/carisdak/anaconda3/lib/python3.6/multiprocessing/process.py\", line 93, in run\n",
      "    self._target(*self._args, **self._kwargs)\n",
      "Traceback (most recent call last):\n",
      "  File \"/home/carisdak/anaconda3/lib/python3.6/multiprocessing/pool.py\", line 119, in worker\n",
      "    result = (True, func(*args, **kwds))\n",
      "Traceback (most recent call last):\n",
      "  File \"/home/carisdak/anaconda3/lib/python3.6/multiprocessing/process.py\", line 249, in _bootstrap\n",
      "    self.run()\n",
      "  File \"/home/carisdak/anaconda3/lib/python3.6/multiprocessing/process.py\", line 249, in _bootstrap\n",
      "    self.run()\n",
      "  File \"/home/carisdak/anaconda3/lib/python3.6/multiprocessing/process.py\", line 93, in run\n",
      "    self._target(*self._args, **self._kwargs)\n",
      "  File \"/home/carisdak/anaconda3/lib/python3.6/multiprocessing/pool.py\", line 44, in mapstar\n",
      "    return list(map(*args))\n",
      "  File \"/home/carisdak/anaconda3/lib/python3.6/multiprocessing/pool.py\", line 119, in worker\n",
      "    result = (True, func(*args, **kwds))\n",
      "  File \"/home/carisdak/deepimpute/deepimpute/multinet.py\", line 45, in trainOrPredict\n",
      "    return trainNet(in_out, NN_param_i, data_i, labels)\n",
      "Traceback (most recent call last):\n",
      "  File \"/home/carisdak/deepimpute/deepimpute/multinet.py\", line 25, in trainNet\n",
      "    net.fit(data_i, targetGenes=targets, predictorGenes=features, labels=labels)\n",
      "  File \"/home/carisdak/anaconda3/lib/python3.6/multiprocessing/pool.py\", line 44, in mapstar\n",
      "    return list(map(*args))\n",
      "  File \"/home/carisdak/anaconda3/lib/python3.6/multiprocessing/process.py\", line 249, in _bootstrap\n",
      "    self.run()\n",
      "  File \"/home/carisdak/deepimpute/deepimpute/net.py\", line 237, in fit\n",
      "    self._fit(features, targets)\n",
      "  File \"/home/carisdak/deepimpute/deepimpute/multinet.py\", line 45, in trainOrPredict\n",
      "    return trainNet(in_out, NN_param_i, data_i, labels)\n",
      "  File \"/home/carisdak/anaconda3/lib/python3.6/multiprocessing/process.py\", line 93, in run\n",
      "    self._target(*self._args, **self._kwargs)\n",
      "  File \"/home/carisdak/anaconda3/lib/python3.6/multiprocessing/pool.py\", line 119, in worker\n",
      "    result = (True, func(*args, **kwds))\n",
      "  File \"/home/carisdak/deepimpute/deepimpute/multinet.py\", line 25, in trainNet\n",
      "    net.fit(data_i, targetGenes=targets, predictorGenes=features, labels=labels)\n",
      "  File \"/home/carisdak/anaconda3/lib/python3.6/multiprocessing/pool.py\", line 44, in mapstar\n",
      "    return list(map(*args))\n",
      "  File \"/home/carisdak/deepimpute/deepimpute/multinet.py\", line 45, in trainOrPredict\n",
      "    return trainNet(in_out, NN_param_i, data_i, labels)\n",
      "  File \"/home/carisdak/anaconda3/lib/python3.6/multiprocessing/process.py\", line 93, in run\n",
      "    self._target(*self._args, **self._kwargs)\n",
      "  File \"/home/carisdak/deepimpute/deepimpute/net.py\", line 237, in fit\n",
      "    self._fit(features, targets)\n",
      "  File \"/home/carisdak/deepimpute/deepimpute/multinet.py\", line 25, in trainNet\n",
      "    net.fit(data_i, targetGenes=targets, predictorGenes=features, labels=labels)\n",
      "  File \"/home/carisdak/anaconda3/lib/python3.6/multiprocessing/pool.py\", line 119, in worker\n",
      "    result = (True, func(*args, **kwds))\n",
      "  File \"/home/carisdak/deepimpute/deepimpute/net.py\", line 210, in _fit\n",
      "    global_step=self.step)\n",
      "  File \"/home/carisdak/deepimpute/deepimpute/net.py\", line 237, in fit\n",
      "    self._fit(features, targets)\n",
      "  File \"/home/carisdak/deepimpute/deepimpute/net.py\", line 210, in _fit\n",
      "    global_step=self.step)\n",
      "  File \"/home/carisdak/deepimpute/deepimpute/net.py\", line 197, in _fit\n",
      "    feed_dict=feedDict)\n",
      "  File \"/home/carisdak/anaconda3/lib/python3.6/multiprocessing/pool.py\", line 44, in mapstar\n",
      "    return list(map(*args))\n",
      "  File \"/home/carisdak/anaconda3/lib/python3.6/site-packages/tensorflow/python/client/session.py\", line 900, in run\n",
      "    run_metadata_ptr)\n",
      "  File \"/home/carisdak/anaconda3/lib/python3.6/site-packages/tensorflow/python/training/saver.py\", line 1714, in save\n",
      "    self._MaybeDeleteOldCheckpoints(meta_graph_suffix=meta_graph_suffix)\n",
      "  File \"/home/carisdak/anaconda3/lib/python3.6/site-packages/tensorflow/python/training/saver.py\", line 1728, in save\n",
      "    meta_graph_filename, strip_default_attrs=strip_default_attrs)\n",
      "  File \"/home/carisdak/deepimpute/deepimpute/multinet.py\", line 45, in trainOrPredict\n",
      "    return trainNet(in_out, NN_param_i, data_i, labels)\n",
      "  File \"/home/carisdak/anaconda3/lib/python3.6/site-packages/tensorflow/python/client/session.py\", line 1135, in _run\n",
      "    feed_dict_tensor, options, run_metadata)\n",
      "  File \"/home/carisdak/deepimpute/deepimpute/multinet.py\", line 25, in trainNet\n",
      "    net.fit(data_i, targetGenes=targets, predictorGenes=features, labels=labels)\n",
      "  File \"/home/carisdak/anaconda3/lib/python3.6/site-packages/tensorflow/python/framework/ops.py\", line 3182, in _as_graph_def\n",
      "    [output.get_shape().as_proto() for output in op.outputs])\n",
      "  File \"/home/carisdak/anaconda3/lib/python3.6/site-packages/tensorflow/python/training/saver.py\", line 1766, in export_meta_graph\n",
      "    graph_def=ops.get_default_graph().as_graph_def(add_shapes=True),\n",
      "  File \"/home/carisdak/anaconda3/lib/python3.6/site-packages/tensorflow/python/framework/ops.py\", line 3228, in as_graph_def\n",
      "    result, _ = self._as_graph_def(from_version, add_shapes)\n",
      "KeyboardInterrupt\n",
      "  File \"/home/carisdak/anaconda3/lib/python3.6/site-packages/tensorflow/python/training/saver.py\", line 1491, in _MaybeDeleteOldCheckpoints\n",
      "    \".data-?????-of-?????\")\n",
      "  File \"/home/carisdak/anaconda3/lib/python3.6/site-packages/tensorflow/python/client/session.py\", line 1316, in _do_run\n",
      "    run_metadata)\n",
      "  File \"/home/carisdak/anaconda3/lib/python3.6/site-packages/tensorflow/python/training/saver.py\", line 1499, in _delete_file_if_exists\n",
      "    for pathname in file_io.get_matching_files(filespec):\n",
      "  File \"/home/carisdak/anaconda3/lib/python3.6/site-packages/tensorflow/python/lib/io/file_io.py\", line 331, in get_matching_files\n",
      "    compat.as_bytes(filename), status)\n",
      "  File \"/home/carisdak/deepimpute/deepimpute/net.py\", line 237, in fit\n",
      "    self._fit(features, targets)\n",
      "  File \"/home/carisdak/anaconda3/lib/python3.6/site-packages/tensorflow/python/client/session.py\", line 1322, in _do_call\n",
      "    return fn(*args)\n",
      "KeyboardInterrupt\n",
      "  File \"/home/carisdak/deepimpute/deepimpute/net.py\", line 197, in _fit\n",
      "    feed_dict=feedDict)\n",
      "  File \"/home/carisdak/anaconda3/lib/python3.6/site-packages/tensorflow/python/client/session.py\", line 900, in run\n",
      "    run_metadata_ptr)\n",
      "  File \"/home/carisdak/anaconda3/lib/python3.6/site-packages/tensorflow/python/client/session.py\", line 1307, in _run_fn\n",
      "    options, feed_dict, fetch_list, target_list, run_metadata)\n",
      "  File \"/home/carisdak/anaconda3/lib/python3.6/site-packages/tensorflow/python/client/session.py\", line 1409, in _call_tf_sessionrun\n",
      "    run_metadata)\n",
      "KeyboardInterrupt\n",
      "  File \"/home/carisdak/anaconda3/lib/python3.6/site-packages/tensorflow/python/client/session.py\", line 1135, in _run\n",
      "    feed_dict_tensor, options, run_metadata)\n",
      "  File \"/home/carisdak/anaconda3/lib/python3.6/site-packages/tensorflow/python/client/session.py\", line 1316, in _do_run\n",
      "    run_metadata)\n",
      "  File \"/home/carisdak/anaconda3/lib/python3.6/site-packages/tensorflow/python/client/session.py\", line 1322, in _do_call\n",
      "    return fn(*args)\n",
      "  File \"/home/carisdak/anaconda3/lib/python3.6/site-packages/tensorflow/python/client/session.py\", line 1307, in _run_fn\n",
      "    options, feed_dict, fetch_list, target_list, run_metadata)\n",
      "  File \"/home/carisdak/anaconda3/lib/python3.6/site-packages/tensorflow/python/client/session.py\", line 1409, in _call_tf_sessionrun\n",
      "    run_metadata)\n",
      "KeyboardInterrupt\n"
     ]
    },
    {
     "ename": "KeyboardInterrupt",
     "evalue": "",
     "output_type": "error",
     "traceback": [
      "\u001b[0;31m---------------------------------------------------------------------------\u001b[0m",
      "\u001b[0;31mKeyboardInterrupt\u001b[0m                         Traceback (most recent call last)",
      "\u001b[0;32m<ipython-input-12-0dd593f1bc2b>\u001b[0m in \u001b[0;36m<module>\u001b[0;34m()\u001b[0m\n\u001b[1;32m      1\u001b[0m \u001b[0;31m# Using all the data\u001b[0m\u001b[0;34m\u001b[0m\u001b[0;34m\u001b[0m\u001b[0m\n\u001b[0;32m----> 2\u001b[0;31m \u001b[0mmultinet\u001b[0m\u001b[0;34m.\u001b[0m\u001b[0mfit\u001b[0m\u001b[0;34m(\u001b[0m\u001b[0mdata\u001b[0m\u001b[0;34m,\u001b[0m\u001b[0mcell_subset\u001b[0m\u001b[0;34m=\u001b[0m\u001b[0;36m1\u001b[0m\u001b[0;34m)\u001b[0m\u001b[0;34m\u001b[0m\u001b[0m\n\u001b[0m",
      "\u001b[0;32m/home/carisdak/deepimpute/deepimpute/multinet.py\u001b[0m in \u001b[0;36mfit\u001b[0;34m(self, data, NN_lim, cell_subset)\u001b[0m\n\u001b[1;32m    160\u001b[0m                       for in_out in in_out_genes]\n\u001b[1;32m    161\u001b[0m \u001b[0;34m\u001b[0m\u001b[0m\n\u001b[0;32m--> 162\u001b[0;31m         \u001b[0moutput_dicts\u001b[0m \u001b[0;34m=\u001b[0m \u001b[0mself\u001b[0m\u001b[0;34m.\u001b[0m\u001b[0mrunOnMultipleCores\u001b[0m\u001b[0;34m(\u001b[0m\u001b[0mn_cores\u001b[0m\u001b[0;34m,\u001b[0m \u001b[0mtrainData\u001b[0m\u001b[0;34m.\u001b[0m\u001b[0mflatten\u001b[0m\u001b[0;34m(\u001b[0m\u001b[0;34m)\u001b[0m\u001b[0;34m,\u001b[0m \u001b[0mchildJobs\u001b[0m\u001b[0;34m)\u001b[0m\u001b[0;34m\u001b[0m\u001b[0m\n\u001b[0m\u001b[1;32m    163\u001b[0m \u001b[0;34m\u001b[0m\u001b[0m\n\u001b[1;32m    164\u001b[0m         \u001b[0;32mfor\u001b[0m \u001b[0mdictionnary\u001b[0m \u001b[0;32min\u001b[0m \u001b[0moutput_dicts\u001b[0m\u001b[0;34m:\u001b[0m\u001b[0;34m\u001b[0m\u001b[0m\n",
      "\u001b[0;32m/home/carisdak/deepimpute/deepimpute/multinet.py\u001b[0m in \u001b[0;36mrunOnMultipleCores\u001b[0;34m(self, cores, data, childJobs)\u001b[0m\n\u001b[1;32m    171\u001b[0m \u001b[0;34m\u001b[0m\u001b[0m\n\u001b[1;32m    172\u001b[0m         \u001b[0mpool\u001b[0m \u001b[0;34m=\u001b[0m \u001b[0mPool\u001b[0m\u001b[0;34m(\u001b[0m\u001b[0mprocesses\u001b[0m\u001b[0;34m=\u001b[0m\u001b[0mcores\u001b[0m\u001b[0;34m,\u001b[0m \u001b[0minitializer\u001b[0m\u001b[0;34m=\u001b[0m\u001b[0mnewCoreInitializer\u001b[0m\u001b[0;34m,\u001b[0m \u001b[0minitargs\u001b[0m\u001b[0;34m=\u001b[0m\u001b[0;34m(\u001b[0m\u001b[0msharedArray\u001b[0m\u001b[0;34m,\u001b[0m\u001b[0;34m)\u001b[0m\u001b[0;34m)\u001b[0m\u001b[0;34m\u001b[0m\u001b[0m\n\u001b[0;32m--> 173\u001b[0;31m         \u001b[0moutput_dicts\u001b[0m \u001b[0;34m=\u001b[0m \u001b[0mpool\u001b[0m\u001b[0;34m.\u001b[0m\u001b[0mmap\u001b[0m\u001b[0;34m(\u001b[0m\u001b[0mtrainOrPredict\u001b[0m\u001b[0;34m,\u001b[0m \u001b[0mchildJobs\u001b[0m\u001b[0;34m)\u001b[0m\u001b[0;34m\u001b[0m\u001b[0m\n\u001b[0m\u001b[1;32m    174\u001b[0m         \u001b[0mpool\u001b[0m\u001b[0;34m.\u001b[0m\u001b[0mclose\u001b[0m\u001b[0;34m(\u001b[0m\u001b[0;34m)\u001b[0m\u001b[0;34m\u001b[0m\u001b[0m\n\u001b[1;32m    175\u001b[0m         \u001b[0mpool\u001b[0m\u001b[0;34m.\u001b[0m\u001b[0mjoin\u001b[0m\u001b[0;34m(\u001b[0m\u001b[0;34m)\u001b[0m\u001b[0;34m\u001b[0m\u001b[0m\n",
      "\u001b[0;32m/home/carisdak/anaconda3/lib/python3.6/multiprocessing/pool.py\u001b[0m in \u001b[0;36mmap\u001b[0;34m(self, func, iterable, chunksize)\u001b[0m\n\u001b[1;32m    258\u001b[0m         \u001b[0;32min\u001b[0m \u001b[0ma\u001b[0m \u001b[0mlist\u001b[0m \u001b[0mthat\u001b[0m \u001b[0;32mis\u001b[0m \u001b[0mreturned\u001b[0m\u001b[0;34m.\u001b[0m\u001b[0;34m\u001b[0m\u001b[0m\n\u001b[1;32m    259\u001b[0m         '''\n\u001b[0;32m--> 260\u001b[0;31m         \u001b[0;32mreturn\u001b[0m \u001b[0mself\u001b[0m\u001b[0;34m.\u001b[0m\u001b[0m_map_async\u001b[0m\u001b[0;34m(\u001b[0m\u001b[0mfunc\u001b[0m\u001b[0;34m,\u001b[0m \u001b[0miterable\u001b[0m\u001b[0;34m,\u001b[0m \u001b[0mmapstar\u001b[0m\u001b[0;34m,\u001b[0m \u001b[0mchunksize\u001b[0m\u001b[0;34m)\u001b[0m\u001b[0;34m.\u001b[0m\u001b[0mget\u001b[0m\u001b[0;34m(\u001b[0m\u001b[0;34m)\u001b[0m\u001b[0;34m\u001b[0m\u001b[0m\n\u001b[0m\u001b[1;32m    261\u001b[0m \u001b[0;34m\u001b[0m\u001b[0m\n\u001b[1;32m    262\u001b[0m     \u001b[0;32mdef\u001b[0m \u001b[0mstarmap\u001b[0m\u001b[0;34m(\u001b[0m\u001b[0mself\u001b[0m\u001b[0;34m,\u001b[0m \u001b[0mfunc\u001b[0m\u001b[0;34m,\u001b[0m \u001b[0miterable\u001b[0m\u001b[0;34m,\u001b[0m \u001b[0mchunksize\u001b[0m\u001b[0;34m=\u001b[0m\u001b[0;32mNone\u001b[0m\u001b[0;34m)\u001b[0m\u001b[0;34m:\u001b[0m\u001b[0;34m\u001b[0m\u001b[0m\n",
      "\u001b[0;32m/home/carisdak/anaconda3/lib/python3.6/multiprocessing/pool.py\u001b[0m in \u001b[0;36mget\u001b[0;34m(self, timeout)\u001b[0m\n\u001b[1;32m    600\u001b[0m \u001b[0;34m\u001b[0m\u001b[0m\n\u001b[1;32m    601\u001b[0m     \u001b[0;32mdef\u001b[0m \u001b[0mget\u001b[0m\u001b[0;34m(\u001b[0m\u001b[0mself\u001b[0m\u001b[0;34m,\u001b[0m \u001b[0mtimeout\u001b[0m\u001b[0;34m=\u001b[0m\u001b[0;32mNone\u001b[0m\u001b[0;34m)\u001b[0m\u001b[0;34m:\u001b[0m\u001b[0;34m\u001b[0m\u001b[0m\n\u001b[0;32m--> 602\u001b[0;31m         \u001b[0mself\u001b[0m\u001b[0;34m.\u001b[0m\u001b[0mwait\u001b[0m\u001b[0;34m(\u001b[0m\u001b[0mtimeout\u001b[0m\u001b[0;34m)\u001b[0m\u001b[0;34m\u001b[0m\u001b[0m\n\u001b[0m\u001b[1;32m    603\u001b[0m         \u001b[0;32mif\u001b[0m \u001b[0;32mnot\u001b[0m \u001b[0mself\u001b[0m\u001b[0;34m.\u001b[0m\u001b[0mready\u001b[0m\u001b[0;34m(\u001b[0m\u001b[0;34m)\u001b[0m\u001b[0;34m:\u001b[0m\u001b[0;34m\u001b[0m\u001b[0m\n\u001b[1;32m    604\u001b[0m             \u001b[0;32mraise\u001b[0m \u001b[0mTimeoutError\u001b[0m\u001b[0;34m\u001b[0m\u001b[0m\n",
      "\u001b[0;32m/home/carisdak/anaconda3/lib/python3.6/multiprocessing/pool.py\u001b[0m in \u001b[0;36mwait\u001b[0;34m(self, timeout)\u001b[0m\n\u001b[1;32m    597\u001b[0m \u001b[0;34m\u001b[0m\u001b[0m\n\u001b[1;32m    598\u001b[0m     \u001b[0;32mdef\u001b[0m \u001b[0mwait\u001b[0m\u001b[0;34m(\u001b[0m\u001b[0mself\u001b[0m\u001b[0;34m,\u001b[0m \u001b[0mtimeout\u001b[0m\u001b[0;34m=\u001b[0m\u001b[0;32mNone\u001b[0m\u001b[0;34m)\u001b[0m\u001b[0;34m:\u001b[0m\u001b[0;34m\u001b[0m\u001b[0m\n\u001b[0;32m--> 599\u001b[0;31m         \u001b[0mself\u001b[0m\u001b[0;34m.\u001b[0m\u001b[0m_event\u001b[0m\u001b[0;34m.\u001b[0m\u001b[0mwait\u001b[0m\u001b[0;34m(\u001b[0m\u001b[0mtimeout\u001b[0m\u001b[0;34m)\u001b[0m\u001b[0;34m\u001b[0m\u001b[0m\n\u001b[0m\u001b[1;32m    600\u001b[0m \u001b[0;34m\u001b[0m\u001b[0m\n\u001b[1;32m    601\u001b[0m     \u001b[0;32mdef\u001b[0m \u001b[0mget\u001b[0m\u001b[0;34m(\u001b[0m\u001b[0mself\u001b[0m\u001b[0;34m,\u001b[0m \u001b[0mtimeout\u001b[0m\u001b[0;34m=\u001b[0m\u001b[0;32mNone\u001b[0m\u001b[0;34m)\u001b[0m\u001b[0;34m:\u001b[0m\u001b[0;34m\u001b[0m\u001b[0m\n",
      "\u001b[0;32m/home/carisdak/anaconda3/lib/python3.6/threading.py\u001b[0m in \u001b[0;36mwait\u001b[0;34m(self, timeout)\u001b[0m\n\u001b[1;32m    549\u001b[0m             \u001b[0msignaled\u001b[0m \u001b[0;34m=\u001b[0m \u001b[0mself\u001b[0m\u001b[0;34m.\u001b[0m\u001b[0m_flag\u001b[0m\u001b[0;34m\u001b[0m\u001b[0m\n\u001b[1;32m    550\u001b[0m             \u001b[0;32mif\u001b[0m \u001b[0;32mnot\u001b[0m \u001b[0msignaled\u001b[0m\u001b[0;34m:\u001b[0m\u001b[0;34m\u001b[0m\u001b[0m\n\u001b[0;32m--> 551\u001b[0;31m                 \u001b[0msignaled\u001b[0m \u001b[0;34m=\u001b[0m \u001b[0mself\u001b[0m\u001b[0;34m.\u001b[0m\u001b[0m_cond\u001b[0m\u001b[0;34m.\u001b[0m\u001b[0mwait\u001b[0m\u001b[0;34m(\u001b[0m\u001b[0mtimeout\u001b[0m\u001b[0;34m)\u001b[0m\u001b[0;34m\u001b[0m\u001b[0m\n\u001b[0m\u001b[1;32m    552\u001b[0m             \u001b[0;32mreturn\u001b[0m \u001b[0msignaled\u001b[0m\u001b[0;34m\u001b[0m\u001b[0m\n\u001b[1;32m    553\u001b[0m \u001b[0;34m\u001b[0m\u001b[0m\n",
      "\u001b[0;32m/home/carisdak/anaconda3/lib/python3.6/threading.py\u001b[0m in \u001b[0;36mwait\u001b[0;34m(self, timeout)\u001b[0m\n\u001b[1;32m    293\u001b[0m         \u001b[0;32mtry\u001b[0m\u001b[0;34m:\u001b[0m    \u001b[0;31m# restore state no matter what (e.g., KeyboardInterrupt)\u001b[0m\u001b[0;34m\u001b[0m\u001b[0m\n\u001b[1;32m    294\u001b[0m             \u001b[0;32mif\u001b[0m \u001b[0mtimeout\u001b[0m \u001b[0;32mis\u001b[0m \u001b[0;32mNone\u001b[0m\u001b[0;34m:\u001b[0m\u001b[0;34m\u001b[0m\u001b[0m\n\u001b[0;32m--> 295\u001b[0;31m                 \u001b[0mwaiter\u001b[0m\u001b[0;34m.\u001b[0m\u001b[0macquire\u001b[0m\u001b[0;34m(\u001b[0m\u001b[0;34m)\u001b[0m\u001b[0;34m\u001b[0m\u001b[0m\n\u001b[0m\u001b[1;32m    296\u001b[0m                 \u001b[0mgotit\u001b[0m \u001b[0;34m=\u001b[0m \u001b[0;32mTrue\u001b[0m\u001b[0;34m\u001b[0m\u001b[0m\n\u001b[1;32m    297\u001b[0m             \u001b[0;32melse\u001b[0m\u001b[0;34m:\u001b[0m\u001b[0;34m\u001b[0m\u001b[0m\n",
      "\u001b[0;31mKeyboardInterrupt\u001b[0m: "
     ]
    }
   ],
   "source": [
    "# Using all the data\n",
    "multinet.fit(data,cell_subset=1)"
   ]
  },
  {
   "cell_type": "code",
   "execution_count": 14,
   "metadata": {},
   "outputs": [
    {
     "name": "stdout",
     "output_type": "stream",
     "text": [
      "Gene prediction limit set to 2085 genes\n",
      "Using 1040 genes as potential predictors\n",
      "Starting training with 400 cells (80.0%) on 4 threads (2 cores/thread).\n",
      "\u001b[1;33;40mTraining model (400 samples) on 2 cores.\u001b[0m\n",
      "\u001b[1;33;40mTraining model (400 samples) on 2 cores.\u001b[0m\n",
      "\u001b[1;33;40mTraining model (400 samples) on 2 cores.\u001b[0m\n",
      "\u001b[1;33;40mTraining model (400 samples) on 2 cores.\u001b[0m\n",
      "Input layer: 540\n",
      "Input layer: 536\n",
      "Input layer: 549\n",
      "Layer-0 label: dense, activation: relu, nb_neurons: 150\n",
      "Input layer: 548\n",
      "Layer-0 label: dense, activation: relu, nb_neurons: 150\n",
      "Layer-0 label: dense, activation: relu, nb_neurons: 150\n",
      "Layer-0 label: dense, activation: relu, nb_neurons: 150\n",
      "Layer-1 label: dropout, activation: dropout, rate: 0.15\n",
      "Layer-1 label: dropout, activation: dropout, rate: 0.15\n",
      "Layer-2 label: dense, activation: relu, nb_neurons: 285\n",
      "Layer-1 label: dropout, activation: dropout, rate: 0.15\n",
      "Layer-1 label: dropout, activation: dropout, rate: 0.15\n",
      "Layer-2 label: dense, activation: relu, nb_neurons: 600\n",
      "Layer-2 label: dense, activation: relu, nb_neurons: 600\n",
      "Layer-2 label: dense, activation: relu, nb_neurons: 600\n",
      "\u001b[1;33;40mOptimization finished after 91 epochs.\u001b[0m\n",
      "\u001b[1;33;40mOptimization finished after 91 epochs.\u001b[0m\n",
      "\u001b[1;33;40mOptimization finished after 91 epochs.\u001b[0m\n",
      "\u001b[1;33;40mOptimization finished after 102 epochs.\u001b[0m\n"
     ]
    },
    {
     "data": {
      "text/plain": [
       "<deepimpute.multinet.MultiNet at 0x7fc0153dd978>"
      ]
     },
     "execution_count": 14,
     "metadata": {},
     "output_type": "execute_result"
    }
   ],
   "source": [
    "# Using 80% of the data\n",
    "multinet.fit(data,cell_subset=0.8)"
   ]
  },
  {
   "cell_type": "code",
   "execution_count": 16,
   "metadata": {},
   "outputs": [
    {
     "name": "stdout",
     "output_type": "stream",
     "text": [
      "Gene prediction limit set to 2085 genes\n",
      "Using 1040 genes as potential predictors\n",
      "Starting training with 200 cells (40.0%) on 4 threads (2 cores/thread).\n",
      "\u001b[1;33;40mTraining model (200 samples) on 2 cores.\u001b[0m\n",
      "\u001b[1;33;40mTraining model (200 samples) on 2 cores.\u001b[0m\n",
      "\u001b[1;33;40mTraining model (200 samples) on 2 cores.\u001b[0m\n",
      "\u001b[1;33;40mTraining model (200 samples) on 2 cores.\u001b[0m\n",
      "Input layer: 548\n",
      "Input layer: 540\n",
      "Input layer: 549\n",
      "Input layer: 536\n",
      "Layer-0 label: dense, activation: relu, nb_neurons: 150\n",
      "Layer-0 label: dense, activation: relu, nb_neurons: 150\n",
      "Layer-0 label: dense, activation: relu, nb_neurons: 150\n",
      "Layer-0 label: dense, activation: relu, nb_neurons: 150\n",
      "Layer-1 label: dropout, activation: dropout, rate: 0.15\n",
      "Layer-1 label: dropout, activation: dropout, rate: 0.15\n",
      "Layer-1 label: dropout, activation: dropout, rate: 0.15\n",
      "Layer-2 label: dense, activation: relu, nb_neurons: 600\n",
      "Layer-2 label: dense, activation: relu, nb_neurons: 600\n",
      "Layer-2 label: dense, activation: relu, nb_neurons: 285\n",
      "Layer-1 label: dropout, activation: dropout, rate: 0.15\n",
      "Layer-2 label: dense, activation: relu, nb_neurons: 600\n",
      "\u001b[1;33;40mOptimization finished after 54 epochs.\u001b[0m\n",
      "\u001b[1;33;40mOptimization finished after 55 epochs.\u001b[0m\n",
      "\u001b[1;33;40mOptimization finished after 55 epochs.\u001b[0m\n",
      "\u001b[1;33;40mOptimization finished after 60 epochs.\u001b[0m\n"
     ]
    },
    {
     "data": {
      "text/plain": [
       "<deepimpute.multinet.MultiNet at 0x7fc0153dd978>"
      ]
     },
     "execution_count": 16,
     "metadata": {},
     "output_type": "execute_result"
    }
   ],
   "source": [
    "# Using 200 cells (randomly selected)\n",
    "multinet.fit(data,cell_subset=200)"
   ]
  },
  {
   "cell_type": "code",
   "execution_count": 18,
   "metadata": {},
   "outputs": [
    {
     "name": "stdout",
     "output_type": "stream",
     "text": [
      "Gene prediction limit set to 1940 genes\n",
      "Using 925 genes as potential predictors\n",
      "Starting training with 150 cells (100.0%) on 4 threads (2 cores/thread).\n",
      "\u001b[1;33;40mTraining model (150 samples) on 2 cores.\u001b[0m\n",
      "\u001b[1;33;40mTraining model (150 samples) on 2 cores.\u001b[0m\n",
      "\u001b[1;33;40mTraining model (150 samples) on 2 cores.\u001b[0m\n",
      "\u001b[1;33;40mTraining model (150 samples) on 2 cores.\u001b[0m\n",
      "Input layer: 792\n",
      "Input layer: 652\n",
      "Input layer: 648\n",
      "Input layer: 627\n",
      "Layer-0 label: dense, activation: relu, nb_neurons: 150\n",
      "Layer-0 label: dense, activation: relu, nb_neurons: 150\n",
      "Layer-0 label: dense, activation: relu, nb_neurons: 150\n",
      "Layer-0 label: dense, activation: relu, nb_neurons: 150\n",
      "Layer-1 label: dropout, activation: dropout, rate: 0.15\n",
      "Layer-1 label: dropout, activation: dropout, rate: 0.15\n",
      "Layer-2 label: dense, activation: relu, nb_neurons: 140\n",
      "Layer-1 label: dropout, activation: dropout, rate: 0.15\n",
      "Layer-1 label: dropout, activation: dropout, rate: 0.15\n",
      "Layer-2 label: dense, activation: relu, nb_neurons: 600\n",
      "Layer-2 label: dense, activation: relu, nb_neurons: 600\n",
      "Layer-2 label: dense, activation: relu, nb_neurons: 600\n",
      "\u001b[1;33;40mOptimization finished after 81 epochs.\u001b[0m\n",
      "\u001b[1;33;40mOptimization finished after 81 epochs.\u001b[0m\n",
      "\u001b[1;33;40mOptimization finished after 104 epochs.\u001b[0m\n",
      "\u001b[1;33;40mOptimization finished after 104 epochs.\u001b[0m\n"
     ]
    },
    {
     "data": {
      "text/plain": [
       "<deepimpute.multinet.MultiNet at 0x7fc0153dd978>"
      ]
     },
     "execution_count": 18,
     "metadata": {},
     "output_type": "execute_result"
    }
   ],
   "source": [
    "# Custom fit\n",
    "trainingData = data.iloc[100:250,:]\n",
    "multinet.fit(trainingData)"
   ]
  },
  {
   "cell_type": "markdown",
   "metadata": {},
   "source": [
    "## Imputation\n",
    "\n",
    "The imputation can be done on any dataset as long as the gene labels are the same"
   ]
  },
  {
   "cell_type": "code",
   "execution_count": 19,
   "metadata": {},
   "outputs": [
    {
     "name": "stdout",
     "output_type": "stream",
     "text": [
      "INFO:tensorflow:Restoring parameters from /tmp/run/c30ac48385/lr=0.0001_bs=64_dims=20-600_nodes=150_dp=0.15_b'ee9d5c'/Checkpoint-91\n",
      "INFO:tensorflow:Restoring parameters from /tmp/run/c30ac48385/lr=0.0001_bs=64_dims=20-600_nodes=150_dp=0.15_b'5d29dc'/Checkpoint-102\n",
      "INFO:tensorflow:Restoring parameters from /tmp/run/c30ac48385/lr=0.0001_bs=64_dims=20-600_nodes=150_dp=0.15_b'fab194'/Checkpoint-91\n",
      "INFO:tensorflow:Restoring parameters from /tmp/run/d24cfcbcc1/lr=0.0001_bs=64_dims=20-600_nodes=150_dp=0.15_b'd4f227'/Checkpoint-118\n",
      "INFO:tensorflow:Restoring parameters from /tmp/run/d24cfcbcc1/lr=0.0001_bs=64_dims=20-600_nodes=150_dp=0.15_b'f3394e'/Checkpoint-101\n",
      "INFO:tensorflow:Restoring parameters from /tmp/run/c30ac48385/lr=0.0001_bs=64_dims=20-600_nodes=150_dp=0.15_b'ba937c'/Checkpoint-91\n",
      "INFO:tensorflow:Restoring parameters from /tmp/run/d24cfcbcc1/lr=0.0001_bs=64_dims=20-600_nodes=150_dp=0.15_b'bca0fd'/Checkpoint-160\n",
      "INFO:tensorflow:Restoring parameters from /tmp/run/d24cfcbcc1/lr=0.0001_bs=64_dims=20-600_nodes=150_dp=0.15_b'c4825f'/Checkpoint-123\n",
      "INFO:tensorflow:Restoring parameters from /tmp/run/8d24378679/lr=0.0001_bs=64_dims=20-600_nodes=150_dp=0.15_b'e9cdb2'/Checkpoint-54\n",
      "INFO:tensorflow:Restoring parameters from /tmp/run/8d24378679/lr=0.0001_bs=64_dims=20-600_nodes=150_dp=0.15_b'e6eb62'/Checkpoint-55\n",
      "INFO:tensorflow:Restoring parameters from /tmp/run/8d24378679/lr=0.0001_bs=64_dims=20-600_nodes=150_dp=0.15_b'544a05'/Checkpoint-55\n",
      "INFO:tensorflow:Restoring parameters from /tmp/run/9583855219/lr=0.0001_bs=64_dims=20-600_nodes=150_dp=0.15_b'9169d3'/Checkpoint-81\n",
      "INFO:tensorflow:Restoring parameters from /tmp/run/9583855219/lr=0.0001_bs=64_dims=20-600_nodes=150_dp=0.15_b'b338b2'/Checkpoint-102\n",
      "INFO:tensorflow:Restoring parameters from /tmp/run/8d24378679/lr=0.0001_bs=64_dims=20-600_nodes=150_dp=0.15_b'7713db'/Checkpoint-60\n",
      "INFO:tensorflow:Restoring parameters from /tmp/run/9583855219/lr=0.0001_bs=64_dims=20-600_nodes=150_dp=0.15_b'5a6425'/Checkpoint-61\n",
      "INFO:tensorflow:Restoring parameters from /tmp/run/9583855219/lr=0.0001_bs=64_dims=20-600_nodes=150_dp=0.15_b'4bd7e6'/Checkpoint-61\n",
      "INFO:tensorflow:Restoring parameters from /tmp/run/9ea7016b1a/lr=0.0001_bs=64_dims=20-600_nodes=150_dp=0.15_b'd815ce'/Checkpoint-81\n",
      "INFO:tensorflow:Restoring parameters from /tmp/run/9ea7016b1a/lr=0.0001_bs=64_dims=20-600_nodes=150_dp=0.15_b'5279e2'/Checkpoint-104\n",
      "INFO:tensorflow:Restoring parameters from /tmp/run/9ea7016b1a/lr=0.0001_bs=64_dims=20-600_nodes=150_dp=0.15_b'5de546'/Checkpoint-81\n",
      "INFO:tensorflow:Restoring parameters from /tmp/run/9ea7016b1a/lr=0.0001_bs=64_dims=20-600_nodes=150_dp=0.15_b'4ed108'/Checkpoint-104\n"
     ]
    },
    {
     "ename": "InvalidIndexError",
     "evalue": "",
     "output_type": "error",
     "traceback": [
      "\u001b[0;31m---------------------------------------------------------------------------\u001b[0m",
      "\u001b[0;31mInvalidIndexError\u001b[0m                         Traceback (most recent call last)",
      "\u001b[0;32m<ipython-input-19-613b394331b5>\u001b[0m in \u001b[0;36m<module>\u001b[0;34m()\u001b[0m\n\u001b[0;32m----> 1\u001b[0;31m \u001b[0mimputedData\u001b[0m \u001b[0;34m=\u001b[0m \u001b[0mmultinet\u001b[0m\u001b[0;34m.\u001b[0m\u001b[0mpredict\u001b[0m\u001b[0;34m(\u001b[0m\u001b[0mdata\u001b[0m\u001b[0;34m)\u001b[0m\u001b[0;34m\u001b[0m\u001b[0m\n\u001b[0m",
      "\u001b[0;32m/home/carisdak/deepimpute/deepimpute/multinet.py\u001b[0m in \u001b[0;36mpredict\u001b[0;34m(self, data, imputed_only, restore_pos_values)\u001b[0m\n\u001b[1;32m    196\u001b[0m                                       rev=True)\n\u001b[1;32m    197\u001b[0m         \u001b[0;32mif\u001b[0m \u001b[0mrestore_pos_values\u001b[0m\u001b[0;34m:\u001b[0m\u001b[0;34m\u001b[0m\u001b[0m\n\u001b[0;32m--> 198\u001b[0;31m             \u001b[0mY_total\u001b[0m \u001b[0;34m=\u001b[0m \u001b[0mY_total\u001b[0m\u001b[0;34m.\u001b[0m\u001b[0mmask\u001b[0m\u001b[0;34m(\u001b[0m\u001b[0mdf\u001b[0m\u001b[0;34m>\u001b[0m\u001b[0;36m0\u001b[0m\u001b[0;34m,\u001b[0m\u001b[0mdf\u001b[0m\u001b[0;34m)\u001b[0m\u001b[0;34m\u001b[0m\u001b[0m\n\u001b[0m\u001b[1;32m    199\u001b[0m         \u001b[0;32mif\u001b[0m \u001b[0mimputed_only\u001b[0m\u001b[0;34m:\u001b[0m\u001b[0;34m\u001b[0m\u001b[0m\n\u001b[1;32m    200\u001b[0m             \u001b[0mY_total\u001b[0m \u001b[0;34m=\u001b[0m \u001b[0mY_total\u001b[0m\u001b[0;34m[\u001b[0m\u001b[0mY_imputed\u001b[0m\u001b[0;34m.\u001b[0m\u001b[0mcolumns\u001b[0m\u001b[0;34m]\u001b[0m\u001b[0;34m\u001b[0m\u001b[0m\n",
      "\u001b[0;32m/home/carisdak/anaconda3/lib/python3.6/site-packages/pandas/core/generic.py\u001b[0m in \u001b[0;36mmask\u001b[0;34m(self, cond, other, inplace, axis, level, errors, try_cast, raise_on_error)\u001b[0m\n\u001b[1;32m   6152\u001b[0m         return self.where(~cond, other=other, inplace=inplace, axis=axis,\n\u001b[1;32m   6153\u001b[0m                           \u001b[0mlevel\u001b[0m\u001b[0;34m=\u001b[0m\u001b[0mlevel\u001b[0m\u001b[0;34m,\u001b[0m \u001b[0mtry_cast\u001b[0m\u001b[0;34m=\u001b[0m\u001b[0mtry_cast\u001b[0m\u001b[0;34m,\u001b[0m\u001b[0;34m\u001b[0m\u001b[0m\n\u001b[0;32m-> 6154\u001b[0;31m                           errors=errors)\n\u001b[0m\u001b[1;32m   6155\u001b[0m \u001b[0;34m\u001b[0m\u001b[0m\n\u001b[1;32m   6156\u001b[0m     _shared_docs['shift'] = (\"\"\"\n",
      "\u001b[0;32m/home/carisdak/anaconda3/lib/python3.6/site-packages/pandas/core/generic.py\u001b[0m in \u001b[0;36mwhere\u001b[0;34m(self, cond, other, inplace, axis, level, errors, try_cast, raise_on_error)\u001b[0m\n\u001b[1;32m   6128\u001b[0m         \u001b[0mother\u001b[0m \u001b[0;34m=\u001b[0m \u001b[0mcom\u001b[0m\u001b[0;34m.\u001b[0m\u001b[0m_apply_if_callable\u001b[0m\u001b[0;34m(\u001b[0m\u001b[0mother\u001b[0m\u001b[0;34m,\u001b[0m \u001b[0mself\u001b[0m\u001b[0;34m)\u001b[0m\u001b[0;34m\u001b[0m\u001b[0m\n\u001b[1;32m   6129\u001b[0m         return self._where(cond, other, inplace, axis, level,\n\u001b[0;32m-> 6130\u001b[0;31m                            errors=errors, try_cast=try_cast)\n\u001b[0m\u001b[1;32m   6131\u001b[0m \u001b[0;34m\u001b[0m\u001b[0m\n\u001b[1;32m   6132\u001b[0m     @Appender(_shared_docs['where'] % dict(_shared_doc_kwargs, cond=\"False\",\n",
      "\u001b[0;32m/home/carisdak/anaconda3/lib/python3.6/site-packages/pandas/core/generic.py\u001b[0m in \u001b[0;36m_where\u001b[0;34m(self, cond, other, inplace, axis, level, errors, try_cast)\u001b[0m\n\u001b[1;32m   5908\u001b[0m                         not all([other._get_axis(i).equals(ax)\n\u001b[1;32m   5909\u001b[0m                                  for i, ax in enumerate(self.axes)])):\n\u001b[0;32m-> 5910\u001b[0;31m                     \u001b[0;32mraise\u001b[0m \u001b[0mInvalidIndexError\u001b[0m\u001b[0;34m\u001b[0m\u001b[0m\n\u001b[0m\u001b[1;32m   5911\u001b[0m \u001b[0;34m\u001b[0m\u001b[0m\n\u001b[1;32m   5912\u001b[0m             \u001b[0;31m# slice me out of the other\u001b[0m\u001b[0;34m\u001b[0m\u001b[0;34m\u001b[0m\u001b[0m\n",
      "\u001b[0;31mInvalidIndexError\u001b[0m: "
     ]
    }
   ],
   "source": [
    "imputedData = multinet.predict(data)"
   ]
  },
  {
   "cell_type": "markdown",
   "metadata": {},
   "source": [
    "## Visualization"
   ]
  },
  {
   "cell_type": "code",
   "execution_count": 8,
   "metadata": {},
   "outputs": [
    {
     "data": {
      "image/png": "[encoded data removed]",
      "text/plain": [
       "<Figure size 432x288 with 1 Axes>"
      ]
     },
     "metadata": {},
     "output_type": "display_data"
    }
   ],
   "source": [
    "import matplotlib.pyplot as plt\n",
    "import numpy as np\n",
    "\n",
    "limits = [0,100]\n",
    "\n",
    "fig,ax = plt.subplots()\n",
    "\n",
    "jitter = np.random.normal(0,1,data.size) # Add some jittering to better see the point density\n",
    "ax.scatter(data.values.flatten()+jitter,imputedData.values.flatten(),s=2)\n",
    "ax.plot(limits,limits,'r-.',linewidth=2)\n",
    "ax.set_xlim(limits)\n",
    "ax.set_ylim(limits)\n",
    "\n",
    "plt.show()\n"
   ]
  },
  {
   "cell_type": "markdown",
   "metadata": {},
   "source": [
    "## Scoring"
   ]
  },
  {
   "cell_type": "code",
   "execution_count": 7,
   "metadata": {},
   "outputs": [
    {
     "name": "stdout",
     "output_type": "stream",
     "text": [
      "INFO:tensorflow:Restoring parameters from /tmp/run/c3d60ace8e/lr=0.0005_bs=64_dims=20-500_nodes=300_dp=0.5_b'9ccfbc'/Checkpoint-32\n",
      "INFO:tensorflow:Restoring parameters from /tmp/run/c3d60ace8e/lr=0.0005_bs=64_dims=20-500_nodes=300_dp=0.5_b'4a71fd'/Checkpoint-52\n",
      "INFO:tensorflow:Restoring parameters from /tmp/run/c3d60ace8e/lr=0.0005_bs=64_dims=20-500_nodes=300_dp=0.5_b'b7dd78'/Checkpoint-49\n",
      "INFO:tensorflow:Restoring parameters from /tmp/run/c3d60ace8e/lr=0.0005_bs=64_dims=20-500_nodes=300_dp=0.5_b'50fbf6'/Checkpoint-32\n",
      "INFO:tensorflow:Restoring parameters from /tmp/run/c3d60ace8e/lr=0.0005_bs=64_dims=20-500_nodes=300_dp=0.5_b'fe8a5f'/Checkpoint-45\n"
     ]
    },
    {
     "data": {
      "text/plain": [
       "0.36328986761217963"
      ]
     },
     "execution_count": 7,
     "metadata": {},
     "output_type": "execute_result"
    }
   ],
   "source": [
    "multinet.score(data)"
   ]
  }
 ],
 "metadata": {
  "kernelspec": {
   "display_name": "Python 3",
   "language": "python",
   "name": "python3"
  },
  "language_info": {
   "codemirror_mode": {
    "name": "ipython",
    "version": 3
   },
   "file_extension": ".py",
   "mimetype": "text/x-python",
   "name": "python",
   "nbconvert_exporter": "python",
   "pygments_lexer": "ipython3",
   "version": "3.6.1"
  }
 },
 "nbformat": 4,
 "nbformat_minor": 2
}
