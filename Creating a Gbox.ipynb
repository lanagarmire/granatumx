{
 "cells": [
  {
   "cell_type": "markdown",
   "metadata": {},
   "source": [
    "# Creating a Gbox"
   ]
  },
  {
   "cell_type": "markdown",
   "metadata": {},
   "source": [
    "GranatumX is the sequel to Granatum, a graphical single-cell RNA-seq (scRNA-seq) analysis pipeline for genomics scientists.\n",
    "\n",
    "In GranatumX, developers can add modules--in any language of their choice--that other biologists and bioinformaticians can arrange into analysis pipelines using a user-friendly web UI. The below guide contains brief instructions on how to develop a Gbox.\n"
   ]
  },
  {
   "cell_type": "markdown",
   "metadata": {},
   "source": [
    "First, you'll want the GranatumX source code so you can install and run GranatumX on your own machine."
   ]
  },
  {
   "cell_type": "code",
   "execution_count": null,
   "metadata": {},
   "outputs": [],
   "source": [
    "git clone https://gitlab.com/xz/GranatumX\n",
    "make setup"
   ]
  },
  {
   "cell_type": "markdown",
   "metadata": {},
   "source": [
    "After installation (which may take a while), GranatumX should be running at http://localhost:34567. Once you've verified GranatumX is running you can continue building your package.\n",
    "\n",
    "The GranatumX source repo contains a template folder with the key files you'll need for your Gbox. To start building your new Gbox, you'll make a copy of this folder. You'll want to substitute the name of your new package for \"yourPackageName\"."
   ]
  },
  {
   "cell_type": "code",
   "execution_count": null,
   "metadata": {},
   "outputs": [],
   "source": [
    "cp gboxTemplate g_packages/yourPackageName"
   ]
  },
  {
   "cell_type": "markdown",
   "metadata": {},
   "source": [
    "A key requirement of a GranatumX Gbox is the package.yaml file. In this file you'll add descriptive information about your Gbox, information about the backend scripts your Gbox uses to perform its operations, and definitions for the frontend user inferface of your Gbox. The file will look something like the below."
   ]
  },
  {
   "cell_type": "markdown",
   "metadata": {},
   "source": [
    "```yaml\n",
    "id: TransposerPackage\n",
    "meta:\n",
    "  maintainer:\n",
    "    name: Arr N. Eh\n",
    "    email: rneh@gmail.com\n",
    "buildCommand: 'cd docker && make'\n",
    "gboxes: \n",
    "  - id: TransposerPackage\n",
    "    meta:\n",
    "      title: TransposerPackage\n",
    "      subtitle: 'Example RNA seq package that transposes a matrix'\n",
    "      description: |\n",
    "        This is a template package. You can use this package as a starting point for your own package.\n",
    "    endpoints:\n",
    "      backend:\n",
    "        type: docker\n",
    "        image: gboxTemplate\n",
    "        cmd: python ./main.py\n",
    "    frontend:\n",
    "      args:\n",
    "        - type: seed\n",
    "          injectInto: seed\n",
    "          default: 12345\n",
    "          label: Random seed\n",
    "          description: >\n",
    "            A random seed'\n",
    "        - type: number\n",
    "          injectInto: someInput\n",
    "          default: 2000\n",
    "          label: Some number\n",
    "          description: 'Example of a number input'\n",
    "      imports:\n",
    "        - kind: assay\n",
    "          label: Assay\n",
    "          injectInto: assay\n",
    "      exports:\n",
    "        - kind: assay\n",
    "          extractFrom: Transposed assay\n",
    "          meta: {}\n",
    "```\n"
   ]
  },
  {
   "cell_type": "markdown",
   "metadata": {},
   "source": [
    "For a full description of all available fields, check out the \"gbox_installer/jsonSchemas/IGboxSpec.json\" file. Two key fields are briefly described below.\n",
    "\n",
    "The \"endpoints\" field contains the logic which will connect a user's pipeline to your Gbox backend. In this example, the Gbox backend is a docker image, and the command to be executed when the user runs your Gbox is \"python ./main.py\". You can look at the g_packages folder for examples of other backend configuration options.\n",
    "\n",
    "The \"frontend\" field contains the \"args\" section defining what HTML inputs to show the user (these serve as the arguments which will be passed to your Gbox), the \"imports\" section defining what types of inputs from other Gboxes your Gbox accepts, and the \"exports\" section defining the types your Gbox exports to other Gboxes.\n",
    "\n",
    "The next part of your package to look at is your Dockerfile. A starter Dockerfile may look like the below."
   ]
  },
  {
   "cell_type": "markdown",
   "metadata": {},
   "source": [
    "\n",
    "```Dockerfile\n",
    "FROM python:3.6.4\n",
    "\n",
    "MAINTAINER \"Arr N. Eh\" rneh@gmail.com\n",
    "\n",
    "WORKDIR /usr/src/app\n",
    "\n",
    "CMD [ \"echo\", \"HelloWorld\" ]\n",
    "```"
   ]
  },
  {
   "cell_type": "markdown",
   "metadata": {},
   "source": [
    "This Dockerfile creates an image with Python 3.6.4 and displays a HelloWorld message on startup.\n",
    "\n",
    "You can update this Dockerfile with anything your Gbox needs for its operation. You can also start with an R base image, a Julia base image, or any other image you require.\n",
    "\n",
    "Now you can start writing your actual application code. The Python code below implements a simple transpose operation using the GranatumX SDK."
   ]
  },
  {
   "cell_type": "code",
   "execution_count": null,
   "metadata": {},
   "outputs": [],
   "source": [
    "import granatum_sdk\n",
    "import numpy as np\n",
    "\n",
    "# Demonstration of a Gbox that transposes a Gene Expression Matrix\n",
    "def main():\n",
    "    gn = granatum_sdk.Granatum()\n",
    "    assay = gn.get_import(\"assay\")\n",
    "    seed = gn.get_arg(\"seed\")\n",
    "    assay[\"matrix\"] = np.array(assay.get(\"matrix\")).T\n",
    "\n",
    "    gn.export_statically(assay, \"Transposed assay\")    \n",
    "    gn.add_result(\"Matrix successfully transposed\", data_type=\"markdown\")\n",
    "    gn.commit()\n",
    "\n",
    "if __name__ == \"__main__\":\n",
    "    main()\n"
   ]
  },
  {
   "cell_type": "markdown",
   "metadata": {},
   "source": [
    "The above code demonstrates how to get user inputs, get data inputs, and post data back to a GranatumX session."
   ]
  },
  {
   "cell_type": "markdown",
   "metadata": {},
   "source": [
    "Finally, you can install your Gbox with the below command:"
   ]
  },
  {
   "cell_type": "code",
   "execution_count": null,
   "metadata": {},
   "outputs": [],
   "source": [
    "cd gbox_installer\n",
    "yarn run installEverything"
   ]
  },
  {
   "cell_type": "markdown",
   "metadata": {},
   "source": [
    "Now return to http://localhost:34567. You should be able to test your new Gbox in a scRNAseq pipeline!\n"
   ]
  }
 ],
 "metadata": {
  "kernelspec": {
   "display_name": "Python 3",
   "language": "python",
   "name": "python3"
  },
  "language_info": {
   "codemirror_mode": {
    "name": "ipython",
    "version": 2
   },
   "file_extension": ".py",
   "mimetype": "text/x-python",
   "name": "python",
   "nbconvert_exporter": "python",
   "pygments_lexer": "ipython2",
   "version": "2.7.15"
  }
 },
 "nbformat": 4,
 "nbformat_minor": 2
}
